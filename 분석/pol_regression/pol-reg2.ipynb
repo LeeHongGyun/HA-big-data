{
 "cells": [
  {
   "cell_type": "code",
   "execution_count": null,
   "metadata": {},
   "outputs": [],
   "source": [
    "import numpy as np\n",
    "import pandas as pd\n",
    "from kapteyn import kmpfit\n",
    "\n",
    "# Importing the dataset\n",
    "data = pd.read_csv('data/res_data_min.csv', engine='python', encoding='CP949')\n",
    "print(\"end\")"
   ]
  },
  {
   "cell_type": "code",
   "execution_count": null,
   "metadata": {},
   "outputs": [],
   "source": [
    "def model(p, v, x, w):       \n",
    "   a,b,c,d,e,f,g,h,i,j,k = p      #coefficients to the polynomials      \n",
    "   return  a*v**2 + b*x**2 + c*w**2 + d*v*x + e*v*w + f*x*w + g*v + h*x + i*y + k  \n",
    "\n",
    "def residuals(p, data):        # Function needed by fit routine\n",
    "   v, x, w, z = data            # The values for v, x, w and the measured hypersurface z\n",
    "   a,b,c,d,e,f,g,h,i,j,k = p   #coefficients to the polynomials  \n",
    "   return (z-model(p,v,x,w))   # Returns an array of residuals. \n",
    "                               #This should (z-model(p,v,x,w))/err if \n",
    "                               # there are error bars on the measured z values\n"
   ]
  }
 ],
 "metadata": {
  "kernelspec": {
   "display_name": "Python 3",
   "language": "python",
   "name": "python3"
  },
  "language_info": {
   "codemirror_mode": {
    "name": "ipython",
    "version": 3
   },
   "file_extension": ".py",
   "mimetype": "text/x-python",
   "name": "python",
   "nbconvert_exporter": "python",
   "pygments_lexer": "ipython3",
   "version": "3.7.3"
  }
 },
 "nbformat": 4,
 "nbformat_minor": 2
}
